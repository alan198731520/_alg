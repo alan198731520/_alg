{
 "cells": [
  {
   "cell_type": "code",
   "execution_count": 69,
   "id": "db0e3fa0",
   "metadata": {},
   "outputs": [],
   "source": [
    "import torch\n",
    "from torch import nn\n",
    "from torchvision import datasets\n",
    "import torchvision.transforms as transforms\n",
    "from torch.utils.data import DataLoader"
   ]
  },
  {
   "cell_type": "code",
   "execution_count": 70,
   "id": "173b91db",
   "metadata": {},
   "outputs": [],
   "source": [
    "import cifar10_model as cifar10_model\n",
    "model_file=\"cifar10_model.pt\""
   ]
  },
  {
   "cell_type": "code",
   "execution_count": 71,
   "id": "45c35da7",
   "metadata": {},
   "outputs": [],
   "source": [
    "#import cifar10_resnet as cifar10_model\n",
    "#model_file=\"cifar10_resnet.pt\""
   ]
  },
  {
   "cell_type": "code",
   "execution_count": 72,
   "id": "34cd1ac3",
   "metadata": {},
   "outputs": [],
   "source": [
    "transform=transforms.Compose([\n",
    "    transforms.ToTensor(),\n",
    "    transforms.Normalize(\n",
    "        mean=(0.4914,0.4822,0.4465),\n",
    "        std=(0.2470,0.2435,0.2616))\n",
    "])"
   ]
  },
  {
   "cell_type": "code",
   "execution_count": 73,
   "id": "dbd9bf2b",
   "metadata": {},
   "outputs": [
    {
     "name": "stdout",
     "output_type": "stream",
     "text": [
      "Files already downloaded and verified\n"
     ]
    }
   ],
   "source": [
    "test_data=datasets.CIFAR10('data/cifar10/test',train=False,download=True,transform=transform)"
   ]
  },
  {
   "cell_type": "code",
   "execution_count": 74,
   "id": "6c9e067d",
   "metadata": {},
   "outputs": [
    {
     "name": "stdout",
     "output_type": "stream",
     "text": [
      "100\n"
     ]
    }
   ],
   "source": [
    "batch_size=100\n",
    "test_loader= DataLoader(test_data,batch_size=batch_size)\n",
    "print(len(test_loader))"
   ]
  },
  {
   "cell_type": "code",
   "execution_count": 75,
   "id": "f93dedf4",
   "metadata": {},
   "outputs": [
    {
     "name": "stdout",
     "output_type": "stream",
     "text": [
      "deivce:cpu\n"
     ]
    }
   ],
   "source": [
    "device=\"cuda\" if torch.cuda.is_available() else \"cpu\"\n",
    "print(f\"deivce:{device}\")"
   ]
  },
  {
   "cell_type": "code",
   "execution_count": 76,
   "id": "5dd8bd11",
   "metadata": {},
   "outputs": [
    {
     "name": "stderr",
     "output_type": "stream",
     "text": [
      "C:\\Users\\Sean\\AppData\\Local\\Temp\\ipykernel_71436\\1562385822.py:2: FutureWarning: You are using `torch.load` with `weights_only=False` (the current default value), which uses the default pickle module implicitly. It is possible to construct malicious pickle data which will execute arbitrary code during unpickling (See https://github.com/pytorch/pytorch/blob/main/SECURITY.md#untrusted-models for more details). In a future release, the default value for `weights_only` will be flipped to `True`. This limits the functions that could be executed during unpickling. Arbitrary objects will no longer be allowed to be loaded via this mode unless they are explicitly allowlisted by the user via `torch.serialization.add_safe_globals`. We recommend you start setting `weights_only=True` for any use case where you don't have full control of the loaded file. Please open an issue on GitHub for any issues related to this experimental feature.\n",
      "  model.load_state_dict(torch.load('cifar10_model.pt'))\n"
     ]
    },
    {
     "data": {
      "text/plain": [
       "CNN(\n",
       "  (conv1): Conv2d(3, 10, kernel_size=(3, 3), stride=(1, 1), padding=(1, 1))\n",
       "  (conv2): Conv2d(10, 20, kernel_size=(3, 3), stride=(1, 1), padding=(1, 1))\n",
       "  (conv3): Conv2d(20, 40, kernel_size=(3, 3), stride=(1, 1), padding=(1, 1))\n",
       "  (pool): MaxPool2d(kernel_size=2, stride=2, padding=0, dilation=1, ceil_mode=False)\n",
       "  (linear1): Linear(in_features=640, out_features=100, bias=True)\n",
       "  (linear2): Linear(in_features=100, out_features=10, bias=True)\n",
       "  (dropout): Dropout(p=0.2, inplace=False)\n",
       ")"
      ]
     },
     "execution_count": 76,
     "metadata": {},
     "output_type": "execute_result"
    }
   ],
   "source": [
    "model=cifar10_model.CNN()\n",
    "model.load_state_dict(torch.load('cifar10_model.pt'))\n",
    "model.eval()\n",
    "\n",
    "#print(model)"
   ]
  },
  {
   "cell_type": "code",
   "execution_count": 77,
   "id": "343b32ac",
   "metadata": {},
   "outputs": [],
   "source": [
    "model=model.to(device)"
   ]
  },
  {
   "cell_type": "code",
   "execution_count": 78,
   "id": "616383e1",
   "metadata": {},
   "outputs": [],
   "source": [
    "loss_function=nn.NLLLoss()"
   ]
  },
  {
   "cell_type": "code",
   "execution_count": 79,
   "id": "a28c32af",
   "metadata": {},
   "outputs": [
    {
     "name": "stdout",
     "output_type": "stream",
     "text": [
      "test_loss: 0.834, correct: 0.714\n"
     ]
    }
   ],
   "source": [
    "num_correct=0.0\n",
    "test_loss=0\n",
    "# 測試資料\n",
    "model.eval()\n",
    "for data_test,target_test in test_loader:\n",
    "    data_test=data_test.to(device)\n",
    "    target_test=target_test.to(device)\n",
    "    \n",
    "    test_pred=model(data_test)\n",
    "    loss3=loss_function(test_pred,target_test)\n",
    "    test_loss += loss3.item()\n",
    "    _,predicted=torch.max(test_pred,1)\n",
    "    num_correct += (predicted==target_test).float().sum()\n",
    "\n",
    "test_loss=test_loss/len(test_loader)\n",
    "num_correct=num_correct/(len(test_loader)*batch_size)\n",
    "print(f\"test_loss: {test_loss:.3f}, correct: {num_correct:.3f}\")"
   ]
  },
  {
   "cell_type": "code",
   "execution_count": null,
   "id": "a161ff98",
   "metadata": {},
   "outputs": [],
   "source": []
  }
 ],
 "metadata": {
  "kernelspec": {
   "display_name": "Python 3",
   "language": "python",
   "name": "python3"
  },
  "language_info": {
   "codemirror_mode": {
    "name": "ipython",
    "version": 3
   },
   "file_extension": ".py",
   "mimetype": "text/x-python",
   "name": "python",
   "nbconvert_exporter": "python",
   "pygments_lexer": "ipython3",
   "version": "3.11.9"
  }
 },
 "nbformat": 4,
 "nbformat_minor": 5
}